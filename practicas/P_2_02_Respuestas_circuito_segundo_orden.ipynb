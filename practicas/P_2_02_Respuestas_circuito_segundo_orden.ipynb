{
 "cells": [
  {
   "cell_type": "markdown",
   "id": "47b26f7c",
   "metadata": {},
   "source": [
    "### Práctica: Respuestas de un circuito eléctrico de segundo orden.\n",
    "\n",
    "**Objetivo:** Modelar un circuito eléctrico de segundo orden mediante el análisis de mallas para obtener su función de transferencia. Simular la respuesta del sistema ante una entrada escalón, analizando y comparando los casos de respuesta subamortiguada, críticamente amortiguada y sobreamortiguada a través de la modificación de los parámetros del circuito y la ubicación de los polos del sistema.\n",
    "\n",
    "\n",
    "---"
   ]
  },
  {
   "cell_type": "markdown",
   "id": "60711a8a",
   "metadata": {},
   "source": [
    "#### Paso 1: Planteamiento del sistema.\n",
    "\n",
    "Para nuestro análisis, utilizaremos un circuito RLC de dos mallas. La entrada será el voltaje de la fuente, $V_{in}(t)$, y la salida será el voltaje en la resistencia $R_2$, que denotaremos como $V_{out}(t)$.\n",
    "\n",
    "![Diagrama del circuito eléctrico.](control-clasico/practicas/assets/images/P_2_02_Diagrama.png)\n",
    "\n",
    "*Figura 1. Diagrama eléctrico del circuito.*\n",
    "\n",
    "---"
   ]
  },
  {
   "cell_type": "markdown",
   "id": "d92e183a",
   "metadata": {},
   "source": [
    "#### Paso 2: Obtención de la Función de Transferencia.\n",
    "\n",
    "Realizaremos el análisis de mallas directamente en el dominio de Laplace, asumiendo condiciones iniciales iguales a cero. Las impedancias de los componentes son $R_1$, $R_2$, $sL$ y $\\frac{1}{sC}$.\n",
    "\n",
    "Aplicamos la Ley de Voltajes de Kirchhoff (LVK) a cada malla:\n",
    "\n",
    "**Ecuación de la Malla 1:**\n",
    "$$ V_{in}(s) = (R_1 + \\frac{1}{sC})I_1(s) - \\frac{1}{sC}I_2(s) \\quad \\dots (1) $$\n",
    "\n",
    "**Ecuación de la Malla 2:**\n",
    "$$ 0 = -\\frac{1}{sC}I_1(s) + (R_2 + sL + \\frac{1}{sC})I_2(s) \\quad \\dots (2) $$\n",
    "\n",
    "La salida del sistema es $V_{out}(s) = R_2 I_2(s)$. Nuestro objetivo es encontrar la función de transferencia $G(s) = \\frac{V_{out}(s)}{V_{in}(s)}$. \n",
    "\n",
    "Para ello, necesitamos resolver el sistema de ecuaciones para $I_2(s)$. Utilizando la regla de Cramer, obtenemos:\n",
    "$$ I_2(s) = \\frac{\\begin{vmatrix} R_1 + \\frac{1}{sC} & V_{in}(s) \\\\ -\\frac{1}{sC} & 0 \\end{vmatrix}}{\\begin{vmatrix} R_1 + \\frac{1}{sC} & -\\frac{1}{sC} \\\\ -\\frac{1}{sC} & R_2 + sL + \\frac{1}{sC} \\end{vmatrix}} = \\frac{\\frac{1}{sC}V_{in}(s)}{(R_1 + \\frac{1}{sC})(R_2 + sL + \\frac{1}{sC}) - (\\frac{1}{sC})^2} $$\n",
    "\n",
    "Desarrollando el denominador:\n",
    "$$ (R_1 + \\frac{1}{sC})(R_2 + sL + \\frac{1}{sC}) - (\\frac{1}{sC})^2$$\n",
    "$$ = R_1R_2 + sL R_1 + \\frac{R_1}{sC} + \\frac{R_2}{sC} + \\frac{L}{C} + \\frac{1}{s^2 C^2} - \\frac{1}{s^2 C^2}$$\n",
    "$$ = sLR_1 + R_1R_2 + \\frac{L}{C} + \\frac{R_1+R_2}{sC} $$\n",
    "\n",
    "Sustituyendo el denominador en la expresión de $I_2(s)$:\n",
    "$$ I_2(s) = \\frac{\\frac{1}{sC}V_{in}(s)}{sLR_1 + R_1R_2 + \\frac{L}{C} + \\frac{R_1+R_2}{sC}} $$\n",
    "$$ I_2(s) = \\frac{V_{in}(s)}{sC (sLR_1 + R_1R_2 + \\frac{L}{C} + \\frac{R_1+R_2}{sC})} $$\n",
    "$$ I_2(s) = \\frac{V_{in}(s)}{s^2LCR_1 + s(R_1R_2C+L) + (R_1+R_2)} $$\n",
    "\n",
    "Como $V_{out}(s) = R_2 I_2(s)$, la función de transferencia final es:\n",
    "$$ G(s) = \\frac{V_{out}(s)}{V_{in}(s)} = \\frac{R_2}{s^2(LCR_1) + s(L+R_1R_2C) + (R_1+R_2)} $$\n",
    "\n",
    "El **polinomio característico** del sistema (el denominador) es:\n",
    "$$ \\Delta = s^2 (LCR_1) + s(L+R_1R_2C) + (R_1 + R_2) = 0 $$\n",
    "\n",
    "Las raíces de este polinomio, que son los polos del sistema, determinan la naturaleza de la respuesta transitoria.\n",
    "\n",
    "\n",
    "---\n"
   ]
  },
  {
   "cell_type": "markdown",
   "id": "208e0727",
   "metadata": {},
   "source": [
    "#### Paso 3: Simulación y Análisis en Python.\n",
    "\n",
    "Consideremos los valores del sistema:\n",
    "\n",
    "$R_1 = 2 \\, \\Omega$\n",
    "\n",
    "$R_2 = 2 \\, \\Omega$\n",
    "\n",
    "$C = 1 \\, F$\n",
    "\n",
    "$L_{subamortiguada} = 4 \\, H$\n",
    "\n",
    "\n",
    "Ahora, vamos a simular el sistema para un conjunto de parámetros que resultan en una **respuesta submortiguada**. Un sistema subamortiguado tiene un par de números complejos conjugados con partes reales negativas.\n",
    "##### *Análisis de las raíces para el caso subamortiguado:*\n",
    "\n",
    "Con los valores, el polinomio característico es:\n",
    "$$ s^2 (LCR_1) + s(L + R_1 R_2 C) + (R_1 + R_2) = 0 $$\n",
    "$$ s^2(4 \\cdot 1 \\cdot 2) + s(4 + 2 \\cdot 2 \\cdot 1) + (2 + 2) = 0 $$\n",
    "$$ 8 s^2 + 8s + 4 = 0 $$\n",
    "$$ s^2 + s + \\frac{1}{2} = 0 $$\n",
    "\n",
    "Las raíces (polos) se calculan con la fórmula cuadrática:\n",
    "$$ s = \\frac{-b \\pm \\sqrt{b^2-4ac}}{2a} $$\n",
    "$$ s = \\frac{-1 \\pm \\sqrt{1^2 - 4 \\cdot 1 \\cdot \\frac{1}{2}}}{2 \\cdot 1} $$\n",
    "$$ s = - \\frac{1}{2} \\pm \\frac{\\sqrt{-1}}{2} $$\n",
    "\n",
    "Por lo que se obtiene:\n",
    "$$ s = - \\frac{1}{2} \\pm \\frac{1}{2}j $$\n",
    "\n",
    "Como las raíces son complejos conjugados con parte real negativa, la respuesta es **subamortiguada**.\n"
   ]
  },
  {
   "cell_type": "markdown",
   "id": "5a7b5067",
   "metadata": {},
   "source": [
    "#### Paso 3.a) Crear la Función de Transferencia.\n"
   ]
  },
  {
   "cell_type": "code",
   "execution_count": null,
   "id": "add87ea8",
   "metadata": {},
   "outputs": [],
   "source": [
    "# Importar las bibliotecas necesarias.\n",
    "import control as ct\n",
    "import matplotlib.pyplot as plt\n",
    "import numpy as np\n",
    "\n",
    "# --- Parámetros del circuito para una respuesta SUBAMORTIGUADA. ---\n",
    "R1 = 2     # Ohms\n",
    "R2 = 2     # Ohms\n",
    "L = 4      # Henrios\n",
    "C = 1      # Faradios\n",
    "\n",
    "# --- Coeficientes de la Función de Transferencia G(s). ---\n",
    "# G(s) = num / den\n",
    "num = [R2]\n",
    "den = [L*C*R1, (L + R1*R2*C), (R1 + R2)]\n",
    "\n",
    "# --- Creación del objeto Función de Transferencia. ---\n",
    "# Usamos la función tf de la biblioteca control.\n",
    "sistema_subamortiguado = ct.tf(num, den)\n",
    "\n",
    "# Imprimir la función de transferencia para verificarla.\n",
    "print(\"La Función de Transferencia es:\")\n",
    "print(sistema_subamortiguado)"
   ]
  },
  {
   "cell_type": "markdown",
   "id": "da74aab6",
   "metadata": {},
   "source": [
    "#### Paso 3.b) Visualizar el mapa de polos y ceros."
   ]
  },
  {
   "cell_type": "code",
   "execution_count": null,
   "id": "50590fe5",
   "metadata": {},
   "outputs": [],
   "source": [
    "# --- Indicar las raíces de s (Polos del sistema). ---\n",
    "# Para un sistema subamortiguado, esperamos complejos conjugados con parte real negativa.\n",
    "# Usamos la función ct.poles() para obtener las raíces del denominador.\n",
    "polos = ct.poles(sistema_subamortiguado)\n",
    "\n",
    "# Imprimimos el resultado.\n",
    "print(\"Las raíces de s (polos) son:\")\n",
    "print(polos)\n",
    "\n",
    "# --- Visualización del Mapa de Polos y Ceros ---\n",
    "plt.figure(figsize=(7, 6))\n",
    "ct.pzmap(sistema_subamortiguado, title='Mapa de Polos y Ceros (sistema subamortiguado)')\n",
    "plt.grid(True)\n",
    "plt.show()"
   ]
  },
  {
   "cell_type": "markdown",
   "id": "ccab571a",
   "metadata": {},
   "source": [
    "#### Paso 3.c) Graficar la respuesta del sistema."
   ]
  },
  {
   "cell_type": "code",
   "execution_count": null,
   "id": "5d4686ca",
   "metadata": {},
   "outputs": [],
   "source": [
    "# --- Simulación de la respuesta al escalón unitario. ---\n",
    "# Calculamos la respuesta del sistema a una entrada de 1 V.\n",
    "# t es el vector de tiempo y vout_subamortiguado es el vector de la salida V_out(t).\n",
    "t, vout_subamortiguado = ct.step_response(sistema_subamortiguado)\n",
    "\n",
    "# --- Graficación de la respuesta. ---\n",
    "plt.figure(figsize=(10, 6))\n",
    "plt.plot(t, vout_subamortiguado)\n",
    "plt.title('Respuesta subamortiguada del circuito (L = 4 H).')\n",
    "plt.xlabel('Tiempo (s)')\n",
    "plt.ylabel('Voltaje de salida V_out(t) (V)')\n",
    "plt.grid(True)\n",
    "plt.show()\n"
   ]
  },
  {
   "cell_type": "markdown",
   "id": "b01da28f",
   "metadata": {},
   "source": [
    "#### Ejercicio propuesto. Análisis de las respuestas críticamente amortiguada y sobreamortiguada.\n",
    "\n",
    "Ahora que hemos analizado y simulado el caso subamortiguado, tu tarea es encontrar los valores de $L$ que producen las respuestas críticamente amortiguada y sobreamortiguada.\n",
    "\n",
    "**Instrucciones:**\n",
    "\n",
    "1.  **Respuesta Críticamente Amortiguada:**\n",
    "    Recuerde que la ecuación característica del sistema es:\n",
    "    $$ \\Delta = s^2 (LCR_1) + s(L + R_1 R_2 C) + (R_1 + R_2) = 0 $$\n",
    "    \n",
    "    Manteniendo $R_1 = 2 \\, \\Omega$, $R_2 = 2 \\, \\Omega$ y $C = 1 \\, F$, determina analíticamente \n",
    "    el valor de $L$ que hace que el discriminante del polinomio característico ($b^2-4ac$) sea igual a cero. \n",
    "    $$ \\implies (L + R_1 R_2 C)^2 - 4 \\cdot (LCR_1) \\cdot (R_1 + R_2) = 0 $$\n",
    "\n",
    "    Esto resultará en dos polos negativos, reales e iguales.\n",
    "    * Muestra tu cálculo en una celda de Markdown.\n",
    "    * En una celda de código, utiliza ese valor de $L$ para crear la nueva función de transferencia; obtener y visualizar el mapa de polos y ceros; y generar la gráfica de su respuesta al escalón.\n",
    "    \n",
    "2.  **Respuesta Sobreamortiguada:**\n",
    "    * Elige un valor de $L$ adecuado (valor propuesto con base en el análisis del valor para el caso críticamente amortiguado y el que se propuso al inicio para el caso subamortiguado).\n",
    "    * Demuestra analíticamente que, con este nuevo valor de $L$, las raíces son dos números reales, distintos y negativos. Incluye este análisis en una celda de Markdown.\n",
    "    * En una celda de código, utiliza ese valor de $L$ para crear la nueva función de transferencia; obtener y visualizar el mapa de polos y ceros; y generar la gráfica de su respuesta al escalón.\n",
    "\n",
    "3.  **Gráfica comparativa:**\n",
    "    * En una celda final, crea un único script que grafique las tres respuestas (subamortiguada, críticamente amortiguada y sobreamortiguada) en la misma figura.\n",
    "    * Usa `plt.legend()` para identificar claramente cada curva. Esto te permitirá visualizar directamente cómo el cambio en un solo elemento afecta la dinámica del sistema."
   ]
  }
 ],
 "metadata": {
  "kernelspec": {
   "display_name": "Python 3",
   "language": "python",
   "name": "python3"
  },
  "language_info": {
   "codemirror_mode": {
    "name": "ipython",
    "version": 3
   },
   "file_extension": ".py",
   "mimetype": "text/x-python",
   "name": "python",
   "nbconvert_exporter": "python",
   "pygments_lexer": "ipython3",
   "version": "3.13.7"
  }
 },
 "nbformat": 4,
 "nbformat_minor": 5
}
