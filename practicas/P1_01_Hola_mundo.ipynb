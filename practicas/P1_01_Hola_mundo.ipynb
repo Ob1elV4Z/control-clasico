{
 "cells": [
  {
   "cell_type": "markdown",
   "id": "9ec60a60",
   "metadata": {},
   "source": [
    "# Práctica 1-02: Hola Mundo\n",
    "Este es mi primer notebook en VS Code para la materia de Control\n",
    "Clásico."
   ]
  },
  {
   "cell_type": "code",
   "execution_count": null,
   "id": "dfb7197b",
   "metadata": {
    "vscode": {
     "languageId": "plaintext"
    }
   },
   "outputs": [],
   "source": []
  },
  {
   "cell_type": "code",
   "execution_count": null,
   "id": "15231169",
   "metadata": {
    "vscode": {
     "languageId": "plaintext"
    }
   },
   "outputs": [],
   "source": [
    "print(\"Hola mundo\")"
   ]
  },
  {
   "cell_type": "code",
   "execution_count": null,
   "id": "2be52065",
   "metadata": {
    "vscode": {
     "languageId": "plaintext"
    }
   },
   "outputs": [],
   "source": [
    "\n",
    "\n"
   ]
  }
 ],
 "metadata": {
  "language_info": {
   "name": "python"
  }
 },
 "nbformat": 4,
 "nbformat_minor": 5
}
